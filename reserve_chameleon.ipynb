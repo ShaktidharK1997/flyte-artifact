{
 "cells": [
  {
   "cell_type": "markdown",
   "metadata": {},
   "source": [
    "## Reserve and configure resources on KVM"
   ]
  },
  {
   "cell_type": "markdown",
   "metadata": {},
   "source": [
    "Before you run this experiment, you will:\n",
    "\n",
    "-   define the specific configuration of resources you need.\n",
    "-   “instantiate” an experiment with your reserved resources.\n",
    "-   wait for your resources to be configured.\n",
    "-   log in to resources to carry out the experiment.\n",
    "\n",
    "This exercise will guide you through those steps."
   ]
  },
  {
   "cell_type": "markdown",
   "metadata": {},
   "source": [
    "### Configure environment"
   ]
  },
  {
   "cell_type": "code",
   "execution_count": 1,
   "metadata": {
    "tags": []
   },
   "outputs": [],
   "source": [
    "import openstack, chi, chi.ssh, chi.network, chi.server, os"
   ]
  },
  {
   "cell_type": "markdown",
   "metadata": {},
   "source": [
    "In this section, we configure the Chameleon Python client.\n",
    "\n",
    "For this experiment, we’re going to use the KVM@TACC site, which we indicate below.\n",
    "\n",
    "We also need to specify the name of the Chameleon “project” that this experiment is part of. The project name will have the format “CHI-XXXXXX”, where the last part is a 6-digit number, and you can find it on your [user dashboard](https://chameleoncloud.org/user/dashboard/)."
   ]
  },
  {
   "cell_type": "markdown",
   "metadata": {},
   "source": [
    "In the cell below, replace the project ID with your own project ID, then run the cell."
   ]
  },
  {
   "cell_type": "code",
   "execution_count": 2,
   "metadata": {
    "tags": []
   },
   "outputs": [
    {
     "name": "stdout",
     "output_type": "stream",
     "text": [
      "Now using KVM@TACC:\n",
      "URL: https://kvm.tacc.chameleoncloud.org\n",
      "Location: Austin, Texas, USA\n",
      "Support contact: help@chameleoncloud.org\n"
     ]
    }
   ],
   "source": [
    "chi.use_site(\"KVM@TACC\")\n",
    "PROJECT_NAME = \"CHI-231138\"\n",
    "chi.set(\"project_name\", PROJECT_NAME)\n",
    "\n",
    "# configure openstacksdk for actions unsupported by python-chi\n",
    "os_conn = chi.clients.connection()\n"
   ]
  },
  {
   "cell_type": "markdown",
   "metadata": {},
   "source": [
    "### Define configuration for this experiment (3 VMs)"
   ]
  },
  {
   "cell_type": "markdown",
   "metadata": {},
   "source": [
    "For this specific experiment, we will need three virtual machines connected to a common network. Each of the virtual machines will be of the `m1.large` type, with 4 VCPUs, 8 GB memory, 40 GB disk space."
   ]
  },
  {
   "cell_type": "code",
   "execution_count": 3,
   "metadata": {
    "tags": []
   },
   "outputs": [],
   "source": [
    "username = os.getenv('USER')\n",
    "\n",
    "node_conf = [\n",
    " {'name': \"node-0\",  'flavor': 'm1.medium', 'image': 'CC-Ubuntu22.04', 'packages': [\"virtualenv\"], 'bastion': True}, \n",
    " {'name': \"node-1\",  'flavor': 'm1.medium', 'image': 'CC-Ubuntu22.04', 'packages': [], 'bastion': False}, \n",
    " {'name': \"node-2\",  'flavor': 'm1.medium', 'image': 'CC-Ubuntu22.04', 'packages': [], 'bastion': False} \n",
    "]\n",
    "net_conf = [\n",
    " {\"name\": \"net0\", \"subnet\": \"192.168.1.0/24\", \"nodes\": [{\"name\": \"node-0\",   \"addr\": \"192.168.1.10\"}, {\"name\": \"node-1\", \"addr\": \"192.168.1.11\"}, {\"name\": \"node-2\", \"addr\": \"192.168.1.12\"}]},\n",
    "]\n",
    "route_conf = []"
   ]
  },
  {
   "cell_type": "code",
   "execution_count": 4,
   "metadata": {
    "tags": []
   },
   "outputs": [
    {
     "name": "stdout",
     "output_type": "stream",
     "text": [
      "sk10945_nyu_edu\n"
     ]
    }
   ],
   "source": [
    "print(username)"
   ]
  },
  {
   "cell_type": "markdown",
   "metadata": {},
   "source": [
    "### Configure resources\n",
    "\n",
    "Now, we will prepare the VMs and network links that our experiment requires."
   ]
  },
  {
   "cell_type": "markdown",
   "metadata": {},
   "source": [
    "First, we will prepare a “public” network that we will use for SSH access to our VMs -"
   ]
  },
  {
   "cell_type": "code",
   "execution_count": 5,
   "metadata": {
    "tags": []
   },
   "outputs": [],
   "source": [
    "public_net = os_conn.network.create_network(name=\"public_net_\" + username)\n",
    "public_net_id = public_net.get(\"id\")\n",
    "public_subnet = os_conn.network.create_subnet(\n",
    "    name=\"public_subnet_\" + username,\n",
    "    network_id=public_net.get(\"id\"),\n",
    "    ip_version='4',\n",
    "    cidr=\"192.168.10.0/24\",\n",
    "    gateway_ip=\"192.168.10.1\",\n",
    "    is_dhcp_enabled = True\n",
    ")"
   ]
  },
  {
   "cell_type": "code",
   "execution_count": 6,
   "metadata": {
    "tags": []
   },
   "outputs": [],
   "source": [
    "public_net = os_conn.network.find_network(\"public_net_\" + username)\n",
    "public_net_id = public_net.get(\"id\")"
   ]
  },
  {
   "cell_type": "code",
   "execution_count": 7,
   "metadata": {
    "tags": []
   },
   "outputs": [],
   "source": [
    "public_net = os_conn.network.create_network(name=\"public_net_\" + username)"
   ]
  },
  {
   "cell_type": "markdown",
   "metadata": {},
   "source": [
    "Next, we will prepare the “experiment” networks -"
   ]
  },
  {
   "cell_type": "code",
   "execution_count": 8,
   "metadata": {
    "tags": []
   },
   "outputs": [],
   "source": [
    "nets = []\n",
    "net_ids = []\n",
    "subnets = []\n",
    "for n in net_conf:\n",
    "    exp_net = os_conn.network.create_network(name=\"exp_\" + n['name']  + '_' + username)\n",
    "    exp_net_id = exp_net.get(\"id\")\n",
    "    os_conn.network.update_network(exp_net, is_port_security_enabled=False)\n",
    "    exp_subnet = os_conn.network.create_subnet(\n",
    "        name=\"exp_subnet_\" + n['name']  + '_' + username,\n",
    "        network_id=exp_net.get(\"id\"),\n",
    "        ip_version='4',\n",
    "        cidr=n['subnet'],\n",
    "        gateway_ip=None,\n",
    "        is_dhcp_enabled = True\n",
    "    )\n",
    "    nets.append(exp_net)\n",
    "    net_ids.append(exp_net_id)\n",
    "    subnets.append(exp_subnet)"
   ]
  },
  {
   "cell_type": "markdown",
   "metadata": {},
   "source": [
    "Now we create the VMs -"
   ]
  },
  {
   "cell_type": "code",
   "execution_count": 9,
   "metadata": {
    "tags": []
   },
   "outputs": [],
   "source": [
    "servers = []\n",
    "server_ids = []\n",
    "for i, n in enumerate(node_conf, start=10):\n",
    "    image_uuid = os_conn.image.find_image(n['image']).id\n",
    "    flavor_uuid = os_conn.compute.find_flavor(n['flavor']).id\n",
    "    # find out details of exp interface(s)\n",
    "    nics = [{'net-id': chi.network.get_network_id( \"exp_\" + net['name']  + '_' + username ), 'v4-fixed-ip': node['addr']} for net in net_conf for node in net['nodes'] if node['name']==n['name']]\n",
    "    # also include a public network interface\n",
    "    nics.insert(0, {\"net-id\": public_net_id, \"v4-fixed-ip\":\"192.168.10.\" + str(i)})\n",
    "    server = chi.server.create_server(\n",
    "        server_name=n['name'] + \"_\" + username,\n",
    "        image_id=image_uuid,\n",
    "        flavor_id=flavor_uuid,\n",
    "        nics=nics\n",
    "    )\n",
    "    servers.append(server)\n",
    "    server_ids.append(chi.server.get_server(n['name'] + \"_\" + username).id)"
   ]
  },
  {
   "cell_type": "markdown",
   "metadata": {},
   "source": [
    "We wait for all servers to come up before we proceed -"
   ]
  },
  {
   "cell_type": "code",
   "execution_count": 10,
   "metadata": {
    "tags": []
   },
   "outputs": [],
   "source": [
    "for server_id in server_ids:\n",
    "    chi.server.wait_for_active(server_id)"
   ]
  },
  {
   "cell_type": "markdown",
   "metadata": {},
   "source": [
    "Next, we will set up SSH access to the VMs.\n",
    "\n",
    "First, we will make sure the “public” network is connected to the Internet. Then, we will configure it to permit SSH access on port 22 for each port connected to this network."
   ]
  },
  {
   "cell_type": "code",
   "execution_count": 11,
   "metadata": {
    "tags": []
   },
   "outputs": [
    {
     "data": {
      "text/plain": [
       "{'network_id': '3dba6152-fca5-4cdf-bf3d-af134f5aa8a0',\n",
       " 'tenant_id': '13a1ac1ce275484caedc3394339486a1',\n",
       " 'subnet_id': '1fef5952-f6a8-4842-bc42-347776b66fa9',\n",
       " 'subnet_ids': ['1fef5952-f6a8-4842-bc42-347776b66fa9'],\n",
       " 'port_id': '96ab8734-d9eb-449a-ba3e-689be5bcf935',\n",
       " 'id': 'a91b5b22-bb9d-47fa-857f-5e1f78fadfc2'}"
      ]
     },
     "execution_count": 11,
     "metadata": {},
     "output_type": "execute_result"
    }
   ],
   "source": [
    "# connect them to the Internet on the \"public\" network (e.g. for software installation)\n",
    "router = chi.network.create_router('inet_router_' + username, gw_network_name='public')\n",
    "chi.network.add_subnet_to_router(router.get(\"id\"), public_subnet.get(\"id\"))"
   ]
  },
  {
   "cell_type": "code",
   "execution_count": 21,
   "metadata": {
    "tags": []
   },
   "outputs": [
    {
     "name": "stdout",
     "output_type": "stream",
     "text": [
      "['6cf83372-4525-4ea5-96df-7f006d655a9c', 'e1279bd7-0e69-434c-8097-4be22a1fe734', '91237d82-9255-42a9-9ea2-cb5575d32531']\n"
     ]
    }
   ],
   "source": [
    "print(server_ids)"
   ]
  },
  {
   "cell_type": "code",
   "execution_count": 13,
   "metadata": {
    "tags": []
   },
   "outputs": [],
   "source": [
    "# prepare SSH access on the servers that serve in \"bastion\" role\n",
    "# WARNING: this relies on undocumented behavior of associate_floating_ip \n",
    "# that it associates the IP with the first port on the server\n",
    "server_ips = []\n",
    "for i, n in enumerate(node_conf):\n",
    "    if 'bastion' in n and n['bastion']:\n",
    "        ip = chi.server.associate_floating_ip(server_ids[i])\n",
    "        server_ips.append(ip)"
   ]
  },
  {
   "cell_type": "code",
   "execution_count": 19,
   "metadata": {
    "tags": []
   },
   "outputs": [],
   "source": [
    "if not os_conn.get_security_group(\"Allow SSH\"):\n",
    "    os_conn.create_security_group(\"Allow SSH\", \"Enable SSH traffic on TCP port 22\")\n",
    "    os_conn.create_security_group_rule(\"Allow SSH\", port_range_min=22, port_range_max=22, protocol='tcp', remote_ip_prefix='0.0.0.0/0')\n",
    "\n",
    "security_group_id = os_conn.get_security_group(\"Allow SSH\").id\n",
    "for port in chi.network.list_ports(): \n",
    "    if port['port_security_enabled'] and port['network_id']==public_net.get(\"id\"):\n",
    "        os_conn.network.update_port(port['id'], security_groups=[security_group_id])"
   ]
  },
  {
   "cell_type": "code",
   "execution_count": 22,
   "metadata": {
    "tags": []
   },
   "outputs": [],
   "source": [
    "for ip in server_ips:\n",
    "    chi.server.wait_for_tcp(ip, port=22)"
   ]
  },
  {
   "cell_type": "code",
   "execution_count": 4,
   "metadata": {
    "tags": []
   },
   "outputs": [
    {
     "name": "stdout",
     "output_type": "stream",
     "text": [
      "['129.114.26.159']\n"
     ]
    }
   ],
   "source": [
    "server_ips= []\n",
    "server_ips.append('129.114.26.159')\n",
    "print(server_ips)"
   ]
  },
  {
   "cell_type": "markdown",
   "metadata": {},
   "source": [
    "The following cell may raise an error if some of your nodes are still getting set up! If that happens, wait a few minutes and try again. (And then a few minutes more, and try again, if it still raises an error.)"
   ]
  },
  {
   "cell_type": "code",
   "execution_count": 24,
   "metadata": {
    "tags": []
   },
   "outputs": [],
   "source": [
    "primary_remote = chi.ssh.Remote(server_ips[0])\n",
    "physical_ips = [n['addr'] for n in net_conf[0]['nodes']]\n",
    "server_remotes = [chi.ssh.Remote(physical_ip, gateway=primary_remote) for physical_ip in physical_ips]"
   ]
  },
  {
   "cell_type": "markdown",
   "metadata": {},
   "source": [
    "Finally, we need to configure our resources, including software package installation and network configuration."
   ]
  },
  {
   "cell_type": "code",
   "execution_count": 25,
   "metadata": {
    "tags": []
   },
   "outputs": [
    {
     "name": "stderr",
     "output_type": "stream",
     "text": [
      "/opt/conda/lib/python3.10/site-packages/paramiko/client.py:889: UserWarning: Unknown ssh-ed25519 host key for 129.114.26.159: b'7a9630670b92096ada990e11cfbf9930'\n",
      "  warnings.warn(\n",
      "/opt/conda/lib/python3.10/site-packages/paramiko/client.py:889: UserWarning: Unknown ssh-ed25519 host key for 192.168.1.10: b'7a9630670b92096ada990e11cfbf9930'\n",
      "  warnings.warn(\n"
     ]
    },
    {
     "name": "stdout",
     "output_type": "stream",
     "text": [
      "net.ipv4.ip_forward = 1\n",
      "success\n",
      "success\n",
      "success\n",
      "success\n",
      "success\n",
      "success\n",
      "success\n",
      "success\n",
      "success\n",
      "success\n"
     ]
    },
    {
     "name": "stderr",
     "output_type": "stream",
     "text": [
      "/opt/conda/lib/python3.10/site-packages/paramiko/client.py:889: UserWarning: Unknown ssh-ed25519 host key for 192.168.1.11: b'08f4740ff8117682c75e7c3207b83101'\n",
      "  warnings.warn(\n"
     ]
    },
    {
     "name": "stdout",
     "output_type": "stream",
     "text": [
      "net.ipv4.ip_forward = 1\n",
      "success\n",
      "success\n",
      "success\n",
      "success\n",
      "success\n",
      "success\n",
      "success\n",
      "success\n",
      "success\n",
      "success\n"
     ]
    },
    {
     "name": "stderr",
     "output_type": "stream",
     "text": [
      "/opt/conda/lib/python3.10/site-packages/paramiko/client.py:889: UserWarning: Unknown ssh-ed25519 host key for 192.168.1.12: b'5a55552c836ee3e690544db5294e934b'\n",
      "  warnings.warn(\n"
     ]
    },
    {
     "name": "stdout",
     "output_type": "stream",
     "text": [
      "net.ipv4.ip_forward = 1\n",
      "success\n",
      "success\n",
      "success\n",
      "success\n",
      "success\n",
      "success\n",
      "success\n",
      "success\n",
      "success\n",
      "success\n"
     ]
    }
   ],
   "source": [
    "import time\n",
    "for i, n in enumerate(node_conf):\n",
    "    remote = server_remotes[i]\n",
    "    # enable forwarding\n",
    "    remote.run(f\"sudo sysctl -w net.ipv4.ip_forward=1\") \n",
    "    remote.run(f\"sudo firewall-cmd --zone=trusted --add-source=192.168.0.0/16 --permanent\")\n",
    "    remote.run(f\"sudo firewall-cmd --zone=trusted --add-source=172.16.0.0/12 --permanent\")\n",
    "    remote.run(f\"sudo firewall-cmd --zone=trusted --add-source=10.0.0.0/8 --permanent\")\n",
    "    remote.run(f\"sudo firewall-cmd --zone=trusted --add-source=127.0.0.0/8 --permanent\")\n",
    "    # these are required for etcd\n",
    "    remote.run(f\"sudo firewall-cmd --zone=public --add-port=4001/tcp\")\n",
    "    remote.run(f\"sudo firewall-cmd --zone=public --add-port=2379-2380/tcp\")\n",
    "    # Add Flyte ports\n",
    "    remote.run(f\"sudo firewall-cmd --zone=public --add-port=8088/tcp\")\n",
    "    remote.run(f\"sudo firewall-cmd --zone=public --add-port=8089/tcp\")\n",
    "    remote.run(f\"sudo firewall-cmd --zone=public --add-port=9000/tcp\")\n",
    "    # Reload firewall\n",
    "    remote.run(f\"sudo firewall-cmd --reload\")\n",
    "    time.sleep(3)"
   ]
  },
  {
   "cell_type": "code",
   "execution_count": null,
   "metadata": {
    "tags": []
   },
   "outputs": [],
   "source": [
    "for i, n in enumerate(node_conf):\n",
    "    # install packages\n",
    "    if len(n['packages']):\n",
    "            remote = server_remotes[i]\n",
    "            remote.run(f\"sudo apt update; sudo apt -y install \" + \" \".join(n['packages'])) "
   ]
  },
  {
   "cell_type": "code",
   "execution_count": 27,
   "metadata": {
    "tags": []
   },
   "outputs": [],
   "source": [
    "# prepare a \"hosts\" file that has names and addresses of every node\n",
    "hosts_txt = [ \"%s\\t%s\" % ( n['addr'], n['name'] ) for net in net_conf  for n in net['nodes'] if type(n) is dict and n['addr']]\n",
    "for remote in server_remotes:\n",
    "    for h in hosts_txt:\n",
    "        remote.run(\"echo %s | sudo tee -a /etc/hosts > /dev/null\" % h)"
   ]
  },
  {
   "cell_type": "code",
   "execution_count": 28,
   "metadata": {
    "tags": []
   },
   "outputs": [],
   "source": [
    "# we also need to enable incoming traffic on the HTTP port\n",
    "if not os_conn.get_security_group(\"Allow HTTP 8088\"):\n",
    "    os_conn.create_security_group(\"Allow HTTP 8088\", \"Enable HTTP traffic on TCP port 8088\")\n",
    "    os_conn.create_security_group_rule(\"Allow HTTP 8088\", port_range_min=8088, port_range_max=8088, protocol='tcp', remote_ip_prefix='0.0.0.0/0')\n",
    "    \n",
    "# add existing security group\n",
    "security_group_id = os_conn.get_security_group(\"Allow HTTP 8088\").id\n",
    "for port in chi.network.list_ports(): \n",
    "    if port['port_security_enabled'] and port['network_id']==public_net.get(\"id\"):\n",
    "        pri_security_groups = port['security_groups']\n",
    "        pri_security_groups.append(security_group_id)\n",
    "        os_conn.network.update_port(port['id'], security_groups=pri_security_groups)"
   ]
  },
  {
   "cell_type": "markdown",
   "metadata": {},
   "source": [
    "### Draw the network topology"
   ]
  },
  {
   "cell_type": "markdown",
   "metadata": {},
   "source": [
    "The following cells will draw the network topology, for your reference."
   ]
  },
  {
   "cell_type": "code",
   "execution_count": 29,
   "metadata": {
    "tags": []
   },
   "outputs": [
    {
     "name": "stdout",
     "output_type": "stream",
     "text": [
      "Requirement already satisfied: networkx in /opt/conda/lib/python3.10/site-packages (3.4.2)\n"
     ]
    }
   ],
   "source": [
    "!pip install networkx"
   ]
  },
  {
   "cell_type": "code",
   "execution_count": 30,
   "metadata": {
    "tags": []
   },
   "outputs": [],
   "source": [
    "nodes = [ (n['name'], {'color': 'pink'}) for n in net_conf ] + [(n['name'], {'color': 'lightblue'}) for n in node_conf ]\n",
    "edges = [(net['name'], node['name'], \n",
    "          {'label': node['addr'] + '/' + net['subnet'].split(\"/\")[1] }) if node['addr'] else (net['name'], node['name']) for net in net_conf for node in net['nodes'] ]"
   ]
  },
  {
   "cell_type": "code",
   "execution_count": 31,
   "metadata": {
    "tags": []
   },
   "outputs": [
    {
     "data": {
      "image/png": "[encoded data removed]",
      "text/plain": [
       "<Figure size 400x400 with 1 Axes>"
      ]
     },
     "metadata": {},
     "output_type": "display_data"
    }
   ],
   "source": [
    "import networkx as nx\n",
    "import matplotlib.pyplot as plt\n",
    "plt.figure(figsize=(len(nodes),len(nodes)))\n",
    "G = nx.Graph()\n",
    "G.add_nodes_from(nodes)\n",
    "G.add_edges_from(edges)\n",
    "pos = nx.spring_layout(G)\n",
    "nx.draw(G, pos, node_shape='s',  \n",
    "        node_color=[n[1]['color'] for n in nodes], \n",
    "        node_size=[len(n[0])*400 for n in nodes],  \n",
    "        with_labels=True);\n",
    "nx.draw_networkx_edge_labels(G,pos,\n",
    "                             edge_labels=nx.get_edge_attributes(G,'label'),\n",
    "                             font_color='gray',  font_size=8, rotate=False);"
   ]
  },
  {
   "cell_type": "markdown",
   "metadata": {},
   "source": [
    "### Use Kubespray to prepare a Kubernetes cluster"
   ]
  },
  {
   "cell_type": "markdown",
   "metadata": {},
   "source": [
    "Now that are resources are “up”, we will use Kubespray, a software utility for preparing and configuring a Kubernetes cluster, to set them up as a cluster."
   ]
  },
  {
   "cell_type": "code",
   "execution_count": 32,
   "metadata": {
    "tags": []
   },
   "outputs": [],
   "source": [
    "\n",
    "remote = chi.ssh.Remote(server_ips[0])"
   ]
  },
  {
   "cell_type": "code",
   "execution_count": null,
   "metadata": {
    "tags": []
   },
   "outputs": [],
   "source": []
  },
  {
   "cell_type": "code",
   "execution_count": null,
   "metadata": {
    "tags": []
   },
   "outputs": [],
   "source": [
    "# install Python libraries required for Kubespray\n",
    "remote.run(\"python3 -m venv myenv\")\n",
    "remote.run(\"git clone --branch release-2.22 https://github.com/kubernetes-sigs/kubespray.git\")\n",
    "remote.run(\"source myenv/bin/activate; cd kubespray; pip3 install -r requirements.txt\")"
   ]
  },
  {
   "cell_type": "code",
   "execution_count": 34,
   "metadata": {
    "tags": []
   },
   "outputs": [
    {
     "name": "stderr",
     "output_type": "stream",
     "text": [
      "Cloning into 'k8s'...\n"
     ]
    },
    {
     "data": {
      "text/plain": [
       "<Result cmd='cp k8s/config/addons.yml      kubespray/inventory/mycluster/group_vars/k8s_cluster/addons.yml' exited=0>"
      ]
     },
     "execution_count": 34,
     "metadata": {},
     "output_type": "execute_result"
    }
   ],
   "source": [
    "# copy config files to correct locations\n",
    "remote.run(\"mv kubespray/inventory/sample kubespray/inventory/mycluster\")\n",
    "remote.run(\"git clone https://github.com/teaching-on-testbeds/k8s.git\")\n",
    "remote.run(\"cp k8s/config/k8s-cluster.yml kubespray/inventory/mycluster/group_vars/k8s_cluster/k8s-cluster.yml\")\n",
    "remote.run(\"cp k8s/config/inventory.py    kubespray/contrib/inventory_builder/inventory.py\")\n",
    "remote.run(\"cp k8s/config/addons.yml      kubespray/inventory/mycluster/group_vars/k8s_cluster/addons.yml\")"
   ]
  },
  {
   "cell_type": "code",
   "execution_count": 35,
   "metadata": {
    "tags": []
   },
   "outputs": [
    {
     "name": "stdout",
     "output_type": "stream",
     "text": [
      "DEBUG: Adding group all\n",
      "DEBUG: Adding group kube_control_plane\n",
      "DEBUG: Adding group kube_node\n",
      "DEBUG: Adding group etcd\n",
      "DEBUG: Adding group k8s_cluster\n",
      "DEBUG: Adding group calico_rr\n",
      "DEBUG: adding host node-0 to group all\n",
      "DEBUG: adding host node-1 to group all\n",
      "DEBUG: adding host node-2 to group all\n",
      "DEBUG: adding host node-0 to group etcd\n",
      "DEBUG: adding host node-1 to group etcd\n",
      "DEBUG: adding host node-2 to group etcd\n",
      "DEBUG: adding host node-0 to group kube_control_plane\n",
      "DEBUG: adding host node-1 to group kube_control_plane\n",
      "DEBUG: adding host node-0 to group kube_node\n",
      "DEBUG: adding host node-1 to group kube_node\n",
      "DEBUG: adding host node-2 to group kube_node\n"
     ]
    },
    {
     "data": {
      "text/plain": [
       "<Result cmd='source myenv/bin/activate; declare -a IPS=(192.168.1.10 192.168.1.11 192.168.1.12);cd kubespray; CONFIG_FILE=inventory/mycluster/hosts.yaml python3 contrib/inventory_builder/inventory.py ${IPS[@]}' exited=0>"
      ]
     },
     "execution_count": 35,
     "metadata": {},
     "output_type": "execute_result"
    }
   ],
   "source": [
    "# build inventory for this specific topology\n",
    "physical_ips = [n['addr'] for n in net_conf[0]['nodes']]\n",
    "physical_ips_str = \" \".join(physical_ips)\n",
    "#remote.run(f\"source myenv/bin/activate; declare -a IPS=({physical_ips_str});\"+\"cd kubespray; CONFIG_FILE=inventory/mycluster/hosts.yaml python3 contrib/inventory_builder/inventory.py ${IPS[@]}\")\n",
    "remote.run(f\"source myenv/bin/activate; declare -a IPS=({physical_ips_str});\"+\"cd kubespray; CONFIG_FILE=inventory/mycluster/hosts.yaml python3 contrib/inventory_builder/inventory.py ${IPS[@]}\")"
   ]
  },
  {
   "cell_type": "code",
   "execution_count": 36,
   "metadata": {
    "tags": []
   },
   "outputs": [
    {
     "name": "stdout",
     "output_type": "stream",
     "text": [
      "ssh-rsa AAAAB3NzaC1yc2EAAAADAQABAAACAQDVki2HKQcDzVkw71W/abA5hsdWlJrqLdh/XWaydCCdVCKaDczPQnvOPfP/JgBHQmBxh/vZA3D48Uc8mzO8T10jOqX8oTKLENfPFgvW/kkl1ed8sSc6KcAs4PYjAFWicuyOKHmPHQwowtm2dsZ8ULucvpQXh4hbZucNi+KzTmXYsF2u/ZQjNgp98gdxEqnEJhQSJv99AsUstEzFnn8yJOILEFhe98a+R+8NuvMXxzDployQo3VMhocKUjX59wPrp3UyXXKW0QzpTMLVEzUvc+LvYxCi2DEpE/NRZ7glqC3/QJPSJFLIbi6I+3EmbggbpV0Am1Elbi5rzUuwcfWBex8XZq5Wf10PbW9u9CN9bPaHjgVs6N3Zbb1pvlj5UGetMoUdZRJf3yFwTVpxX6t/HaytoXlantlp9mRu0ZMlFXSzZTS2051wehCaZrdBuP/fBt0HjzrJpqPpxB1tmlyz3mLSqADsEQWfWngin36hh095iTH6HgUO7L8y7o0gXrUTIrUkCzTsb3fwOvNvfV2Wruz5Fh3MQNbuTNiI0yg302GPFIBsvyTbSReXSjrvvDe5NdwmV4dCATEueeveQLOxkrwQQUBMtQF6bW0rM8DimrARE0b+Y93OnNN+r6pdTgXWYekt/ij/zVGxK3WnpyOK1xXtnUqI5GC0d0oCChluxs0lXQ== cc@node-0-sk10945-nyu-edu\n"
     ]
    },
    {
     "name": "stderr",
     "output_type": "stream",
     "text": [
      "/opt/conda/lib/python3.10/site-packages/paramiko/client.py:889: UserWarning: Unknown ssh-ed25519 host key for 192.168.1.10: b'7a9630670b92096ada990e11cfbf9930'\n",
      "  warnings.warn(\n",
      "/opt/conda/lib/python3.10/site-packages/paramiko/client.py:889: UserWarning: Unknown ssh-ed25519 host key for 192.168.1.11: b'08f4740ff8117682c75e7c3207b83101'\n",
      "  warnings.warn(\n",
      "/opt/conda/lib/python3.10/site-packages/paramiko/client.py:889: UserWarning: Unknown ssh-ed25519 host key for 192.168.1.12: b'5a55552c836ee3e690544db5294e934b'\n",
      "  warnings.warn(\n"
     ]
    }
   ],
   "source": [
    "# make sure \"controller\" node can SSH into the others\n",
    "remote.run('ssh-keygen -t rsa -b 4096 -f ~/.ssh/id_rsa -q -N \"\"')\n",
    "public_key = remote.run('cat ~/.ssh/id_rsa.pub').tail(\"stdout\")[2:]\n",
    "\n",
    "for physical_ip in physical_ips:\n",
    "    remote_worker = chi.ssh.Remote(physical_ip, gateway=remote)\n",
    "    remote_worker.run(f'echo {public_key} >> ~/.ssh/authorized_keys') "
   ]
  },
  {
   "cell_type": "markdown",
   "metadata": {},
   "source": [
    "The following cell will actually build the cluster. It will take a long time, and you may see many warnings in the output - that’s OK. The instructions below explain how to tell whether it was successful or not.\n",
    "\n",
    "The output will be very long, so it will be truncated by default. When you see\n",
    "\n",
    "    Output of this cell has been trimmed on the initial display.\n",
    "    Displaying the first 50 top outputs.\n",
    "    Click on this message to get the complete output.\n",
    "\n",
    "at the end, click in order to see the rest of the output.\n",
    "\n",
    "When the process is finished, you will see a “PLAY RECAP” in the output (near the end):\n",
    "\n",
    "    PLAY RECAP *********************************************************************\n",
    "    localhost                  : ok=3    changed=0    unreachable=0    failed=0    skipped=0    rescued=0    ignored=0   \n",
    "    node-0                     : ok=752  changed=149  unreachable=0    failed=0    skipped=1276 rescued=0    ignored=8   \n",
    "    node-1                     : ok=652  changed=136  unreachable=0    failed=0    skipped=1124 rescued=0    ignored=3   \n",
    "    node-2                     : ok=535  changed=112  unreachable=0    failed=0    skipped=797  rescued=0    ignored=2   \n",
    "\n",
    "Make sure that each node shows `failed=0`. If not, you should re-run the cell to re-try the failed parts."
   ]
  },
  {
   "cell_type": "code",
   "execution_count": null,
   "metadata": {
    "tags": []
   },
   "outputs": [],
   "source": [
    "# build the cluster\n",
    "remote.run(\"source myenv/bin/activate; cd kubespray; ansible-playbook -i inventory/mycluster/hosts.yaml  --become --become-user=root cluster.yml\")"
   ]
  },
  {
   "cell_type": "code",
   "execution_count": 38,
   "metadata": {
    "tags": []
   },
   "outputs": [
    {
     "data": {
      "text/plain": [
       "<Result cmd='sudo cp -R /root/.kube /home/cc/.kube; sudo chown -R cc /home/cc/.kube; sudo chgrp -R cc /home/cc/.kube' exited=0>"
      ]
     },
     "execution_count": 38,
     "metadata": {},
     "output_type": "execute_result"
    }
   ],
   "source": [
    "# allow kubectl access for non-root user\n",
    "remote.run(\"sudo cp -R /root/.kube /home/cc/.kube; sudo chown -R cc /home/cc/.kube; sudo chgrp -R cc /home/cc/.kube\")"
   ]
  },
  {
   "cell_type": "code",
   "execution_count": 39,
   "metadata": {
    "tags": []
   },
   "outputs": [
    {
     "name": "stdout",
     "output_type": "stream",
     "text": [
      "NAME     STATUS   ROLES           AGE     VERSION\n",
      "node-0   Ready    control-plane   4m46s   v1.26.5\n",
      "node-1   Ready    control-plane   4m26s   v1.26.5\n",
      "node-2   Ready    <none>          3m14s   v1.26.5\n"
     ]
    },
    {
     "data": {
      "text/plain": [
       "<Result cmd='kubectl get nodes' exited=0>"
      ]
     },
     "execution_count": 39,
     "metadata": {},
     "output_type": "execute_result"
    }
   ],
   "source": [
    "# check installation\n",
    "remote.run(\"kubectl get nodes\")"
   ]
  },
  {
   "cell_type": "markdown",
   "metadata": {},
   "source": [
    "### Set up Docker\n",
    "\n",
    "Now that we have a Kubernetes cluster, we have a framework in place for container orchestration. But we still need to set up Docker, for building, sharing, and running those containers."
   ]
  },
  {
   "cell_type": "code",
   "execution_count": 40,
   "metadata": {
    "tags": []
   },
   "outputs": [],
   "source": [
    "# add the user to the \"docker\" group on all hosts\n",
    "for physical_ip in physical_ips:\n",
    "    remote_worker = chi.ssh.Remote(physical_ip, gateway=remote)\n",
    "    remote_worker.run(\"sudo groupadd -f docker; sudo usermod -aG docker $USER\")"
   ]
  },
  {
   "cell_type": "code",
   "execution_count": 41,
   "metadata": {
    "tags": []
   },
   "outputs": [
    {
     "name": "stderr",
     "output_type": "stream",
     "text": [
      "Unable to find image 'registry:2' locally\n",
      "2: Pulling from library/registry\n",
      "5fa62e1bbddf: Pulling fs layer\n",
      "512fd48e9ac5: Pulling fs layer\n",
      "669420efbe7e: Pulling fs layer\n",
      "afcf3903ce8c: Pulling fs layer\n",
      "ae1e60cf899f: Pulling fs layer\n",
      "afcf3903ce8c: Waiting\n",
      "ae1e60cf899f: Waiting\n",
      "512fd48e9ac5: Verifying Checksum\n",
      "512fd48e9ac5: Download complete\n",
      "5fa62e1bbddf: Verifying Checksum\n",
      "5fa62e1bbddf: Download complete\n",
      "669420efbe7e: Verifying Checksum\n",
      "669420efbe7e: Download complete\n",
      "afcf3903ce8c: Verifying Checksum\n",
      "afcf3903ce8c: Download complete\n",
      "ae1e60cf899f: Verifying Checksum\n",
      "ae1e60cf899f: Download complete\n",
      "5fa62e1bbddf: Pull complete\n",
      "512fd48e9ac5: Pull complete\n",
      "669420efbe7e: Pull complete\n",
      "afcf3903ce8c: Pull complete\n",
      "ae1e60cf899f: Pull complete\n",
      "Digest: sha256:26f7266535a3a1dae81e137ba4935c59d96e7bb4b700f64e4af8959ca5ab0419\n",
      "Status: Downloaded newer image for registry:2\n"
     ]
    },
    {
     "name": "stdout",
     "output_type": "stream",
     "text": [
      "69f38874a7380dbc59e192749f608d8ee11e61b359d375db7a1175ecb2ead060\n"
     ]
    },
    {
     "data": {
      "text/plain": [
       "<Result cmd='docker run -d -p 5000:5000 --restart always --name registry registry:2' exited=0>"
      ]
     },
     "execution_count": 41,
     "metadata": {},
     "output_type": "execute_result"
    }
   ],
   "source": [
    "# set up a private distribution registry on the \"controller\" node for distributing containers\n",
    "# note: need a brand-new SSH session in order to \"get\" new group membership\n",
    "remote = chi.ssh.Remote(server_ips[0])\n",
    "remote.run(\"docker run -d -p 5000:5000 --restart always --name registry registry:2\")"
   ]
  },
  {
   "cell_type": "code",
   "execution_count": 42,
   "metadata": {
    "tags": []
   },
   "outputs": [
    {
     "name": "stderr",
     "output_type": "stream",
     "text": [
      "--2025-01-08 10:31:37--  https://raw.githubusercontent.com/teaching-on-testbeds/k8s/main/config/daemon.json\n",
      "Resolving raw.githubusercontent.com (raw.githubusercontent.com)... 185.199.108.133, 185.199.110.133, 185.199.111.133, ...\n",
      "Connecting to raw.githubusercontent.com (raw.githubusercontent.com)|185.199.108.133|:443... connected.\n",
      "HTTP request sent, awaiting response... 200 OK\n",
      "Length: 65 [text/plain]\n",
      "Saving to: ‘/etc/docker/daemon.json’\n",
      "\n",
      "     0K                                                       100%  945K=0s\n",
      "\n",
      "2025-01-08 10:31:37 (945 KB/s) - ‘/etc/docker/daemon.json’ saved [65/65]\n",
      "\n",
      "--2025-01-08 10:31:49--  https://raw.githubusercontent.com/teaching-on-testbeds/k8s/main/config/daemon.json\n",
      "Resolving raw.githubusercontent.com (raw.githubusercontent.com)... 185.199.109.133, 185.199.111.133, 185.199.110.133, ...\n",
      "Connecting to raw.githubusercontent.com (raw.githubusercontent.com)|185.199.109.133|:443... connected.\n",
      "HTTP request sent, awaiting response... 200 OK\n",
      "Length: 65 [text/plain]\n",
      "Saving to: ‘/etc/docker/daemon.json’\n",
      "\n",
      "     0K                                                       100%  712K=0s\n",
      "\n",
      "2025-01-08 10:31:49 (712 KB/s) - ‘/etc/docker/daemon.json’ saved [65/65]\n",
      "\n",
      "--2025-01-08 10:32:08--  https://raw.githubusercontent.com/teaching-on-testbeds/k8s/main/config/daemon.json\n",
      "Resolving raw.githubusercontent.com (raw.githubusercontent.com)... 185.199.109.133, 185.199.110.133, 185.199.108.133, ...\n",
      "Connecting to raw.githubusercontent.com (raw.githubusercontent.com)|185.199.109.133|:443... connected.\n",
      "HTTP request sent, awaiting response... 200 OK\n",
      "Length: 65 [text/plain]\n",
      "Saving to: ‘/etc/docker/daemon.json’\n",
      "\n",
      "     0K                                                       100%  678K=0s\n",
      "\n",
      "2025-01-08 10:32:08 (678 KB/s) - ‘/etc/docker/daemon.json’ saved [65/65]\n",
      "\n"
     ]
    }
   ],
   "source": [
    "# set up docker configuration on all the hosts\n",
    "for physical_ip in physical_ips:\n",
    "    remote_worker = chi.ssh.Remote(physical_ip, gateway=remote)\n",
    "    remote_worker.run(\"sudo wget https://raw.githubusercontent.com/teaching-on-testbeds/k8s/main/config/daemon.json -O /etc/docker/daemon.json\")\n",
    "    remote_worker.run(\"sudo service docker restart\")\n"
   ]
  },
  {
   "cell_type": "code",
   "execution_count": 43,
   "metadata": {
    "tags": []
   },
   "outputs": [
    {
     "name": "stderr",
     "output_type": "stream",
     "text": [
      "Unable to find image 'hello-world:latest' locally\n",
      "latest: Pulling from library/hello-world\n",
      "c1ec31eb5944: Pulling fs layer\n",
      "c1ec31eb5944: Verifying Checksum\n",
      "c1ec31eb5944: Download complete\n",
      "c1ec31eb5944: Pull complete\n",
      "Digest: sha256:5b3cc85e16e3058003c13b7821318369dad01dac3dbb877aac3c28182255c724\n",
      "Status: Downloaded newer image for hello-world:latest\n"
     ]
    },
    {
     "name": "stdout",
     "output_type": "stream",
     "text": [
      "\n",
      "Hello from Docker!\n",
      "This message shows that your installation appears to be working correctly.\n",
      "\n",
      "To generate this message, Docker took the following steps:\n",
      " 1. The Docker client contacted the Docker daemon.\n",
      " 2. The Docker daemon pulled the \"hello-world\" image from the Docker Hub.\n",
      "    (amd64)\n",
      " 3. The Docker daemon created a new container from that image which runs the\n",
      "    executable that produces the output you are currently reading.\n",
      " 4. The Docker daemon streamed that output to the Docker client, which sent it\n",
      "    to your terminal.\n",
      "\n",
      "To try something more ambitious, you can run an Ubuntu container with:\n",
      " $ docker run -it ubuntu bash\n",
      "\n",
      "Share images, automate workflows, and more with a free Docker ID:\n",
      " https://hub.docker.com/\n",
      "\n",
      "For more examples and ideas, visit:\n",
      " https://docs.docker.com/get-started/\n",
      "\n"
     ]
    },
    {
     "data": {
      "text/plain": [
       "<Result cmd='docker run hello-world' exited=0>"
      ]
     },
     "execution_count": 43,
     "metadata": {},
     "output_type": "execute_result"
    }
   ],
   "source": [
    "# check configuration\n",
    "remote.run(\"docker run hello-world\")"
   ]
  },
  {
   "cell_type": "markdown",
   "metadata": {},
   "source": [
    "### Get SSH login details"
   ]
  },
  {
   "cell_type": "markdown",
   "metadata": {},
   "source": [
    "At this point, we should be able to log in to our “controller” node over SSH! Run the following cell, and observe the output - you will see an SSH command this node."
   ]
  },
  {
   "cell_type": "code",
   "execution_count": 5,
   "metadata": {
    "tags": []
   },
   "outputs": [
    {
     "name": "stdout",
     "output_type": "stream",
     "text": [
      "ssh cc@129.114.26.159\n"
     ]
    }
   ],
   "source": [
    "print(\"ssh cc@\" + server_ips[0])"
   ]
  },
  {
   "cell_type": "code",
   "execution_count": 5,
   "metadata": {
    "tags": []
   },
   "outputs": [],
   "source": [
    "\n",
    "remote = chi.ssh.Remote(server_ips[0])"
   ]
  },
  {
   "cell_type": "markdown",
   "metadata": {},
   "source": [
    "Now, you can open an SSH session as follows:\n",
    "\n",
    "-   In Jupyter, from the menu bar, use File \\> New \\> Terminal to open a new terminal.\n",
    "-   Copy the SSH command from the output above, and paste it into the terminal.\n",
    "\n",
    "Alternatively, you can use your local terminal to log on to each node, if you prefer. (On your local terminal, you may need to also specify your key path as part of the SSH command, using the `-i` argument followed by the path to your private key.)"
   ]
  },
  {
   "cell_type": "markdown",
   "metadata": {},
   "source": [
    "## Flyte Deployment v2"
   ]
  },
  {
   "cell_type": "code",
   "execution_count": 51,
   "metadata": {
    "tags": []
   },
   "outputs": [
    {
     "name": "stderr",
     "output_type": "stream",
     "text": [
      "  % Total    % Received % Xferd  Average Speed   Time    Time     Time  Current\n",
      "                                 Dload  Upload   Total   Spent    Left  Speed\n",
      "  0     0    0     0    0     0      0      0 --:--:-- --:--:-- --:--:--     0"
     ]
    },
    {
     "name": "stdout",
     "output_type": "stream",
     "text": [
      "Downloading https://get.helm.sh/helm-v3.16.4-linux-amd64.tar.gz\n"
     ]
    },
    {
     "name": "stderr",
     "output_type": "stream",
     "text": [
      "100 11903  100 11903    0     0  74921      0 --:--:-- --:--:-- --:--:-- 75335\n"
     ]
    },
    {
     "name": "stdout",
     "output_type": "stream",
     "text": [
      "Verifying checksum... Done.\n",
      "Preparing to install helm into /usr/local/bin\n",
      "helm installed into /usr/local/bin/helm\n"
     ]
    },
    {
     "data": {
      "text/plain": [
       "<Result cmd='curl https://raw.githubusercontent.com/helm/helm/main/scripts/get-helm-3 | bash' exited=0>"
      ]
     },
     "execution_count": 51,
     "metadata": {},
     "output_type": "execute_result"
    }
   ],
   "source": [
    "#installing helm\n",
    "remote.run(\"curl https://raw.githubusercontent.com/helm/helm/main/scripts/get-helm-3 | bash\")"
   ]
  },
  {
   "cell_type": "markdown",
   "metadata": {},
   "source": [
    "### Creating flyte namespace and storage class to enable dynamic provisioning "
   ]
  },
  {
   "cell_type": "code",
   "execution_count": 52,
   "metadata": {
    "tags": []
   },
   "outputs": [
    {
     "name": "stdout",
     "output_type": "stream",
     "text": [
      "namespace/flyte created\n"
     ]
    },
    {
     "name": "stderr",
     "output_type": "stream",
     "text": [
      "No resources found\n"
     ]
    },
    {
     "data": {
      "text/plain": [
       "<Result cmd='kubectl get storageclass -n flyte' exited=0>"
      ]
     },
     "execution_count": 52,
     "metadata": {},
     "output_type": "execute_result"
    }
   ],
   "source": [
    "remote.run(\"kubectl create namespace flyte\")\n",
    "remote.run(\"kubectl get storageclass -n flyte\")"
   ]
  },
  {
   "cell_type": "code",
   "execution_count": 53,
   "metadata": {
    "tags": []
   },
   "outputs": [
    {
     "name": "stdout",
     "output_type": "stream",
     "text": [
      "\"rimusz\" has been added to your repositories\n",
      "Hang tight while we grab the latest from your chart repositories...\n",
      "...Successfully got an update from the \"rimusz\" chart repository\n",
      "Update Complete. ⎈Happy Helming!⎈\n",
      "Release \"hostpath-provisioner\" does not exist. Installing it now.\n",
      "NAME: hostpath-provisioner\n",
      "LAST DEPLOYED: Wed Jan  8 10:34:01 2025\n",
      "NAMESPACE: flyte\n",
      "STATUS: deployed\n",
      "REVISION: 1\n",
      "TEST SUITE: None\n",
      "NOTES:\n",
      "The Hostpath Provisioner service has now been installed.\n",
      "\n",
      "A storage class named 'hostpath' has now been created\n",
      "and is available to provision dynamic volumes.\n",
      "\n",
      "You can use this storageclass by creating a `PersistentVolumeClaim` with the\n",
      "correct storageClassName attribute. For example:\n",
      "\n",
      "    ---\n",
      "    kind: PersistentVolumeClaim\n",
      "    apiVersion: v1\n",
      "    metadata:\n",
      "      name: test-dynamic-volume-claim\n",
      "    spec:\n",
      "      storageClassName: \"hostpath\"\n",
      "      accessModes:\n",
      "        - ReadWriteOnce\n",
      "      resources:\n",
      "        requests:\n",
      "          storage: 100Mi\n",
      "NAME                 PROVISIONER   RECLAIMPOLICY   VOLUMEBINDINGMODE   ALLOWVOLUMEEXPANSION   AGE\n",
      "hostpath (default)   hostpath      Delete          Immediate           false                  0s\n"
     ]
    },
    {
     "data": {
      "text/plain": [
       "<Result cmd='kubectl get storageclass -n flyte' exited=0>"
      ]
     },
     "execution_count": 53,
     "metadata": {},
     "output_type": "execute_result"
    }
   ],
   "source": [
    "remote.run(\"helm repo add rimusz https://charts.rimusz.net\")\n",
    "remote.run(\"helm repo update\")\n",
    "remote.run(\"helm upgrade --install hostpath-provisioner --namespace flyte rimusz/hostpath-provisioner\")\n",
    "remote.run(\"kubectl get storageclass -n flyte\")"
   ]
  },
  {
   "cell_type": "code",
   "execution_count": 125,
   "metadata": {
    "tags": []
   },
   "outputs": [
    {
     "name": "stderr",
     "output_type": "stream",
     "text": [
      "Warning: deleting cluster-scoped resources, not scoped to the provided namespace\n"
     ]
    },
    {
     "name": "stdout",
     "output_type": "stream",
     "text": [
      "storageclass.storage.k8s.io \"hostpath\" deleted\n"
     ]
    },
    {
     "data": {
      "text/plain": [
       "<Result cmd='kubectl delete storageclass hostpath -n flyte' exited=0>"
      ]
     },
     "execution_count": 125,
     "metadata": {},
     "output_type": "execute_result"
    }
   ],
   "source": [
    "# uncomment if you would like to delete the storage class created above\n",
    "#remote.run(\"kubectl delete storageclass hostpath -n flyte\")"
   ]
  },
  {
   "cell_type": "code",
   "execution_count": 54,
   "metadata": {
    "tags": []
   },
   "outputs": [
    {
     "data": {
      "text/plain": [
       "<Result cmd='curl -sl https://raw.githubusercontent.com/ShaktidharK1997/flyte-artifact/refs/heads/main/onprem-flyte-dependencies.yaml > onprem-flyte-dependencies.yaml' exited=0>"
      ]
     },
     "execution_count": 54,
     "metadata": {},
     "output_type": "execute_result"
    }
   ],
   "source": [
    "# Downloading the needed dependencies for flyte into the master node\n",
    "remote.run(\"curl -sl https://raw.githubusercontent.com/ShaktidharK1997/flyte-artifact/refs/heads/main/onprem-flyte-dependencies.yaml > onprem-flyte-dependencies.yaml\")\n"
   ]
  },
  {
   "cell_type": "code",
   "execution_count": 55,
   "metadata": {
    "tags": []
   },
   "outputs": [
    {
     "name": "stderr",
     "output_type": "stream",
     "text": [
      "Warning: resource namespaces/flyte is missing the kubectl.kubernetes.io/last-applied-configuration annotation which is required by kubectl apply. kubectl apply should only be used on resources created declaratively by either kubectl create --save-config or kubectl apply. The missing annotation will be patched automatically.\n"
     ]
    },
    {
     "name": "stdout",
     "output_type": "stream",
     "text": [
      "namespace/flyte configured\n",
      "persistentvolumeclaim/postgresql-pvc created\n",
      "persistentvolumeclaim/minio-pvc created\n",
      "service/postgres created\n",
      "deployment.apps/postgres created\n",
      "deployment.apps/minio created\n",
      "service/minio created\n"
     ]
    },
    {
     "data": {
      "text/plain": [
       "<Result cmd='kubectl apply -f onprem-flyte-dependencies.yaml' exited=0>"
      ]
     },
     "execution_count": 55,
     "metadata": {},
     "output_type": "execute_result"
    }
   ],
   "source": [
    "#running the dependencies yaml in master node \n",
    "remote.run(\"kubectl apply -f onprem-flyte-dependencies.yaml\")"
   ]
  },
  {
   "cell_type": "code",
   "execution_count": 59,
   "metadata": {
    "tags": []
   },
   "outputs": [
    {
     "name": "stdout",
     "output_type": "stream",
     "text": [
      "NAME                                   READY   STATUS    RESTARTS   AGE\n",
      "hostpath-provisioner-5bb665c64-b76w6   1/1     Running   0          41s\n",
      "minio-6dfd8b7d76-kffd9                 1/1     Running   0          29s\n",
      "postgres-5cd768484f-k4m6l              1/1     Running   0          29s\n"
     ]
    },
    {
     "data": {
      "text/plain": [
       "<Result cmd='kubectl get pods -n flyte' exited=0>"
      ]
     },
     "execution_count": 59,
     "metadata": {},
     "output_type": "execute_result"
    }
   ],
   "source": [
    "#checking pod status ( Object store MinIO and PgSQL database containers must be created)\n",
    "remote.run(\"kubectl get pods -n flyte\")"
   ]
  },
  {
   "cell_type": "code",
   "execution_count": 126,
   "metadata": {
    "tags": []
   },
   "outputs": [
    {
     "name": "stdout",
     "output_type": "stream",
     "text": [
      "namespace \"flyte\" deleted\n",
      "persistentvolumeclaim \"postgresql-pvc\" deleted\n",
      "persistentvolumeclaim \"minio-pvc\" deleted\n",
      "service \"postgres\" deleted\n",
      "deployment.apps \"postgres\" deleted\n",
      "deployment.apps \"minio\" deleted\n",
      "service \"minio\" deleted\n"
     ]
    },
    {
     "data": {
      "text/plain": [
       "<Result cmd='kubectl delete -f onprem-flyte-dependencies.yaml' exited=0>"
      ]
     },
     "execution_count": 126,
     "metadata": {},
     "output_type": "execute_result"
    }
   ],
   "source": [
    "#uncomment if you would like to delete the created dependencies\n",
    "#remote.run(\"kubectl delete -f onprem-flyte-dependencies.yaml\")"
   ]
  },
  {
   "cell_type": "code",
   "execution_count": 60,
   "metadata": {
    "tags": []
   },
   "outputs": [
    {
     "name": "stdout",
     "output_type": "stream",
     "text": [
      "\"flyteorg\" has been added to your repositories\n"
     ]
    },
    {
     "data": {
      "text/plain": [
       "<Result cmd='helm repo add flyteorg https://flyteorg.github.io/flyte' exited=0>"
      ]
     },
     "execution_count": 60,
     "metadata": {},
     "output_type": "execute_result"
    }
   ],
   "source": [
    "#add flyte through helm repo\n",
    "remote.run(\"helm repo add flyteorg https://flyteorg.github.io/flyte\")"
   ]
  },
  {
   "cell_type": "code",
   "execution_count": 61,
   "metadata": {
    "tags": []
   },
   "outputs": [
    {
     "name": "stdout",
     "output_type": "stream",
     "text": [
      "secret/flyte-binary-inline-config-secret created\n"
     ]
    },
    {
     "data": {
      "text/plain": [
       "<Result cmd='kubectl create -f ~/flyte-config/local-secret.yaml' exited=0>"
      ]
     },
     "execution_count": 61,
     "metadata": {},
     "output_type": "execute_result"
    }
   ],
   "source": [
    "remote.run(\"mkdir -p ~/flyte-config\")\n",
    "\n",
    "#Creating local secret yaml for db password\n",
    "remote.run(\"\"\"cat <<EOF > ~/flyte-config/local-secret.yaml      \n",
    "apiVersion: v1\n",
    "kind: Secret\n",
    "metadata:\n",
    "  name: flyte-binary-inline-config-secret\n",
    "  namespace: flyte\n",
    "type: Opaque\n",
    "stringData:\n",
    "  202-database-secrets.yaml: |\n",
    "    database:\n",
    "      postgres:\n",
    "        password: \"postgres\" \n",
    "EOF\n",
    "\"\"\")\n",
    "\n",
    "#Applying local secret\n",
    "\n",
    "remote.run(\"kubectl create -f ~/flyte-config/local-secret.yaml\")\n"
   ]
  },
  {
   "cell_type": "code",
   "execution_count": 168,
   "metadata": {
    "tags": []
   },
   "outputs": [
    {
     "name": "stdout",
     "output_type": "stream",
     "text": [
      "secret \"flyte-binary-inline-config-secret\" deleted\n"
     ]
    },
    {
     "data": {
      "text/plain": [
       "<Result cmd='kubectl delete -f ~/flyte-config/local-secret.yaml' exited=0>"
      ]
     },
     "execution_count": 168,
     "metadata": {},
     "output_type": "execute_result"
    }
   ],
   "source": [
    "#uncomment to delete k8s local secret \n",
    "#remote.run(\"kubectl delete -f ~/flyte-config/local-secret.yaml\")"
   ]
  },
  {
   "cell_type": "code",
   "execution_count": 62,
   "metadata": {
    "tags": []
   },
   "outputs": [
    {
     "name": "stdout",
     "output_type": "stream",
     "text": [
      "NAME: flyte-binary\n",
      "LAST DEPLOYED: Wed Jan  8 10:34:57 2025\n",
      "NAMESPACE: flyte\n",
      "STATUS: deployed\n",
      "REVISION: 1\n",
      "TEST SUITE: None\n"
     ]
    },
    {
     "data": {
      "text/plain": [
       "<Result cmd='helm install flyte-binary flyteorg/flyte-binary  --values onprem-flyte-binary-values.yaml -n flyte' exited=0>"
      ]
     },
     "execution_count": 62,
     "metadata": {},
     "output_type": "execute_result"
    }
   ],
   "source": [
    "#Installing flyte binary in K8s\n",
    "remote.run(\"curl -sL https://raw.githubusercontent.com/davidmirror-ops/flyte-the-hard-way/main/docs/on-premises/single-node/manifests/onprem-flyte-binary-values.yaml > onprem-flyte-binary-values.yaml\")\n",
    "\n",
    "remote.run(\"helm install flyte-binary flyteorg/flyte-binary  --values onprem-flyte-binary-values.yaml -n flyte\")\n"
   ]
  },
  {
   "cell_type": "code",
   "execution_count": 64,
   "metadata": {
    "tags": []
   },
   "outputs": [
    {
     "name": "stdout",
     "output_type": "stream",
     "text": [
      "NAME                                   READY   STATUS    RESTARTS   AGE\n",
      "flyte-binary-658fc8b875-b9bwx          0/1     Running   0          25s\n",
      "hostpath-provisioner-5bb665c64-b76w6   1/1     Running   0          82s\n",
      "minio-6dfd8b7d76-kffd9                 1/1     Running   0          70s\n",
      "postgres-5cd768484f-k4m6l              1/1     Running   0          70s\n"
     ]
    },
    {
     "data": {
      "text/plain": [
       "<Result cmd='kubectl get pods -n flyte' exited=0>"
      ]
     },
     "execution_count": 64,
     "metadata": {},
     "output_type": "execute_result"
    }
   ],
   "source": [
    "remote.run(\"kubectl get pods -n flyte\")"
   ]
  },
  {
   "cell_type": "code",
   "execution_count": 15,
   "metadata": {
    "tags": []
   },
   "outputs": [
    {
     "name": "stdout",
     "output_type": "stream",
     "text": [
      "release \"flyte-binary\" uninstalled\n"
     ]
    },
    {
     "data": {
      "text/plain": [
       "<Result cmd='helm uninstall flyte-binary -n flyte' exited=0>"
      ]
     },
     "execution_count": 15,
     "metadata": {},
     "output_type": "execute_result"
    }
   ],
   "source": [
    "#uncomment to uninstall flyte binary\n",
    "#remote.run(\"helm uninstall flyte-binary -n flyte\")"
   ]
  },
  {
   "cell_type": "markdown",
   "metadata": {},
   "source": [
    "## Configuring to connect to installed Flyte"
   ]
  },
  {
   "cell_type": "code",
   "execution_count": 65,
   "metadata": {
    "tags": []
   },
   "outputs": [
    {
     "name": "stderr",
     "output_type": "stream",
     "text": [
      "flyteorg/flyte info checking GitHub for latest tag\n",
      "flyteorg/flyte info found version: flytectl/v0.9.4 for flytectl/v0.9.4/Linux/x86_64\n",
      "flyteorg/flyte info installed /usr/local/bin/flytectl\n",
      "time=\"2025-01-08T10:35:31Z\" level=info msg=\"[0] Couldn't find a config file []. Relying on env vars and pflags.\"\n"
     ]
    },
    {
     "name": "stdout",
     "output_type": "stream",
     "text": [
      "Init flytectl config file at [/home/cc/.flyte/config.yaml]"
     ]
    },
    {
     "data": {
      "text/plain": [
       "<Result cmd='flytectl config init' exited=0>"
      ]
     },
     "execution_count": 65,
     "metadata": {},
     "output_type": "execute_result"
    }
   ],
   "source": [
    "# Installing and configuring flytectl\n",
    "remote.run(\"curl -sL https://ctl.flyte.org/install | sudo bash -s -- -b /usr/local/bin\")\n",
    "remote.run(\"flytectl config init\")\n"
   ]
  },
  {
   "cell_type": "code",
   "execution_count": 66,
   "metadata": {
    "tags": []
   },
   "outputs": [
    {
     "data": {
      "text/plain": [
       "<Result cmd=\"cat << 'EOF' > $HOME/.flyte/config.yaml\\nadmin:\\n  endpoint: localhost:8089\\n  authType: Pkce\\n  insecure: true\\nlogger:\\n  show-source: true\\n  level: 6\\nEOF\" exited=0>"
      ]
     },
     "execution_count": 66,
     "metadata": {},
     "output_type": "execute_result"
    }
   ],
   "source": [
    "#Need to change content of config file\n",
    "config_content = \"\"\"admin:\n",
    "  endpoint: localhost:8089\n",
    "  authType: Pkce\n",
    "  insecure: true\n",
    "logger:\n",
    "  show-source: true\n",
    "  level: 6\"\"\"\n",
    "\n",
    "remote.run(f\"\"\"cat << 'EOF' > $HOME/.flyte/config.yaml\n",
    "{config_content}\n",
    "EOF\"\"\")"
   ]
  },
  {
   "cell_type": "code",
   "execution_count": 67,
   "metadata": {
    "tags": []
   },
   "outputs": [
    {
     "name": "stdout",
     "output_type": "stream",
     "text": [
      "127.0.0.1 minio.flyte.svc.cluster.local\n",
      "127.0.0.1 localhost localhost.localdomain\n",
      "\n",
      "# The following lines are desirable for IPv6 capable hosts\n",
      "::1 ip6-localhost ip6-loopback localhost6 localhost6.localdomain\n",
      "fe00::0 ip6-localnet\n",
      "ff00::0 ip6-mcastprefix\n",
      "ff02::1 ip6-allnodes\n",
      "ff02::2 ip6-allrouters\n",
      "ff02::3 ip6-allhosts\n",
      "192.168.1.10 node-0\n",
      "192.168.1.11 node-1\n",
      "192.168.1.12 node-2\n",
      "# Ansible inventory hosts BEGIN\n",
      "192.168.1.10 node-0.cluster.local node-0 \n",
      "192.168.1.11 node-1.cluster.local node-1 \n",
      "192.168.1.12 node-2.cluster.local node-2 \n",
      "# Ansible inventory hosts END\n",
      "127.0.0.1 minio.flyte.svc.cluster.local\n"
     ]
    },
    {
     "data": {
      "text/plain": [
       "<Result cmd='cat /etc/hosts' exited=0>"
      ]
     },
     "execution_count": 67,
     "metadata": {},
     "output_type": "execute_result"
    }
   ],
   "source": [
    "#Creating DNS Service for minio yaml \n",
    "remote.run(\"\"\"echo \"127.0.0.1 minio.flyte.svc.cluster.local\" | sudo tee -a /etc/hosts\"\"\")\n",
    "remote.run(\"cat /etc/hosts\")"
   ]
  },
  {
   "cell_type": "code",
   "execution_count": null,
   "metadata": {},
   "outputs": [],
   "source": [
    "#install flytekit\n",
    "remote.run(\"source myenv/bin/activate; pip install flytekit\")"
   ]
  },
  {
   "cell_type": "code",
   "execution_count": null,
   "metadata": {},
   "outputs": [],
   "source": [
    "# Create and execute dummy workflow script to test \n",
    "\n",
    "remote.run(\"\"\"cat <<EOF >hello_world.py\n",
    "from flytekit import task, workflow\n",
    "\n",
    "@task\n",
    "def say_hello() -> str:\n",
    "    return \"hello world\"\n",
    "\n",
    "@workflow\n",
    "def my_wf() -> str:\n",
    "    res = say_hello()\n",
    "    return res\n",
    "\n",
    "if __name__ == \"__main__\":\n",
    "    print(f\"Running my_wf() {my_wf()}\")\n",
    "EOF\"\"\")\n",
    "remote.run(\"source myenv/bin/activate; pyflyte run --remote hello_world.py my_wf\")"
   ]
  },
  {
   "cell_type": "code",
   "execution_count": null,
   "metadata": {
    "tags": []
   },
   "outputs": [
    {
     "name": "stdout",
     "output_type": "stream",
     "text": [
      "Port forwards running:\n",
      "cc       3043975  0.0  0.5 758768 21404 ?        Rl   12:52   0:00 kubectl -n flyte port-forward --address 0.0.0.0 service/minio 9000:9000\n",
      "cc       3043976  0.0  0.4 758512 18364 ?        Rl   12:52   0:00 kubectl -n flyte port-forward --address 0.0.0.0 service/flyte-binary-grpc 8089:8089\n",
      "cc       3043977  0.0  0.4 758512 18252 ?        Rl   12:52   0:00 kubectl -n flyte port-forward --address 0.0.0.0 service/flyte-binary-http 8088:8088\n",
      "Forwarding from 0.0.0.0:9000 -> 9000\n",
      "Forwarding from 0.0.0.0:8089 -> 8089\n",
      "Forwarding from 0.0.0.0:8088 -> 8088\n",
      "Handling connection for 8088\n",
      "Handling connection for 8088\n",
      "Handling connection for 8088\n",
      "Handling connection for 8088\n",
      "Handling connection for 8088\n",
      "Handling connection for 8088\n",
      "Handling connection for 8088\n",
      "Handling connection for 8089\n",
      "Handling connection for 9000\n"
     ]
    },
    {
     "name": "stderr",
     "output_type": "stream",
     "text": [
      "E0109 13:18:47.287645 3043976 portforward.go:392] error copying from local connection to remote stream: read tcp4 127.0.0.1:8089->127.0.0.1:38972: read: connection reset by peer\n"
     ]
    },
    {
     "name": "stdout",
     "output_type": "stream",
     "text": [
      "Handling connection for 8088\n",
      "Handling connection for 8088\n",
      "Handling connection for 8088\n",
      "Handling connection for 8088\n",
      "Handling connection for 8088\n",
      "Handling connection for 8088\n",
      "Handling connection for 8089\n",
      "Handling connection for 9000\n"
     ]
    },
    {
     "name": "stderr",
     "output_type": "stream",
     "text": [
      "E0109 13:30:50.553261 3043976 portforward.go:392] error copying from local connection to remote stream: read tcp4 127.0.0.1:8089->127.0.0.1:38076: read: connection reset by peer\n"
     ]
    },
    {
     "name": "stdout",
     "output_type": "stream",
     "text": [
      "Handling connection for 8088\n",
      "Handling connection for 8088\n",
      "Handling connection for 8088\n",
      "Handling connection for 8088\n",
      "Handling connection for 8088\n",
      "Handling connection for 8088\n",
      "Handling connection for 8088\n",
      "Handling connection for 8088\n",
      "Handling connection for 8088\n",
      "Handling connection for 8088\n",
      "Handling connection for 8088\n",
      "Handling connection for 8088\n",
      "Handling connection for 8088\n",
      "Handling connection for 8088\n",
      "Handling connection for 8088\n",
      "Handling connection for 8088\n",
      "Handling connection for 8088\n",
      "Handling connection for 8088\n",
      "Handling connection for 8089\n",
      "Handling connection for 9000\n"
     ]
    },
    {
     "name": "stderr",
     "output_type": "stream",
     "text": [
      "E0109 14:22:32.187251 3043976 portforward.go:392] error copying from local connection to remote stream: read tcp4 127.0.0.1:8089->127.0.0.1:52786: read: connection reset by peer\n"
     ]
    },
    {
     "name": "stdout",
     "output_type": "stream",
     "text": [
      "Handling connection for 8088\n",
      "Handling connection for 8088\n",
      "Handling connection for 8088\n",
      "Handling connection for 8088\n",
      "Handling connection for 8088\n",
      "Handling connection for 8088\n",
      "Handling connection for 8089\n",
      "Handling connection for 9000\n"
     ]
    },
    {
     "name": "stderr",
     "output_type": "stream",
     "text": [
      "E0109 14:48:24.833106 3043976 portforward.go:392] error copying from local connection to remote stream: read tcp4 127.0.0.1:8089->127.0.0.1:33052: read: connection reset by peer\n"
     ]
    },
    {
     "name": "stdout",
     "output_type": "stream",
     "text": [
      "Handling connection for 8088\n",
      "Handling connection for 8088\n",
      "Handling connection for 8088\n",
      "Handling connection for 8088\n",
      "Handling connection for 8088\n",
      "Handling connection for 8088\n",
      "Handling connection for 8089\n",
      "Handling connection for 9000\n"
     ]
    },
    {
     "name": "stderr",
     "output_type": "stream",
     "text": [
      "E0109 15:00:27.386765 3043976 portforward.go:392] error copying from local connection to remote stream: read tcp4 127.0.0.1:8089->127.0.0.1:50160: read: connection reset by peer\n"
     ]
    },
    {
     "name": "stdout",
     "output_type": "stream",
     "text": [
      "Handling connection for 8088\n",
      "Handling connection for 8088\n",
      "Handling connection for 8088\n",
      "Handling connection for 8088\n",
      "Handling connection for 8088\n",
      "Handling connection for 8088\n",
      "Handling connection for 8088\n",
      "Handling connection for 8088\n",
      "Handling connection for 8088\n",
      "Handling connection for 8088\n",
      "Handling connection for 8088\n",
      "Handling connection for 8088\n",
      "Handling connection for 8088\n",
      "Handling connection for 8088\n",
      "Handling connection for 8088\n",
      "Handling connection for 8088\n",
      "Handling connection for 8088\n",
      "Handling connection for 8088\n",
      "Handling connection for 8088\n",
      "Handling connection for 8088\n",
      "Handling connection for 8088\n",
      "Handling connection for 8088\n",
      "Handling connection for 8088\n"
     ]
    }
   ],
   "source": [
    "# Start three port forwarding sessions for Http/grpc/minio\n",
    "remote.run(\"\"\"\n",
    "# Start port forwards in the background using &\n",
    "kubectl -n flyte port-forward --address 0.0.0.0 service/minio 9000:9000 &\n",
    "kubectl -n flyte port-forward --address 0.0.0.0 service/flyte-binary-grpc 8089:8089 &\n",
    "kubectl -n flyte port-forward --address 0.0.0.0 service/flyte-binary-http 8088:8088 &\n",
    "# Store the process IDs so we can terminate them later if needed\n",
    "echo $! > /tmp/flyte-portforward.pid\n",
    "# Print the running port forwards\n",
    "echo \"Port forwards running:\"\n",
    "ps aux | grep \"port-forward\" | grep -v grep\n",
    "\"\"\")"
   ]
  },
  {
   "cell_type": "code",
   "execution_count": null,
   "metadata": {
    "tags": []
   },
   "outputs": [],
   "source": [
    "remote.run(\"source myenv/bin/activate; pyflyte run --remote hello_world.py my_wf\")"
   ]
  },
  {
   "cell_type": "markdown",
   "metadata": {},
   "source": [
    "## Deleting created resources"
   ]
  },
  {
   "cell_type": "code",
   "execution_count": null,
   "metadata": {},
   "outputs": [],
   "source": [
    "remote.run(\"\"\"\n",
    "# Kill all port-forward processes\n",
    "pkill -f \"port-forward\"\n",
    "\"\"\")"
   ]
  },
  {
   "cell_type": "code",
   "execution_count": null,
   "metadata": {},
   "outputs": [],
   "source": [
    "remote.run(\"helm uninstall flyte-binary -n flyte\")\n",
    "remote.run(\"kubectl delete -f ~/flyte-config/local-secret.yaml\")\n",
    "remote.run(\"kubectl delete -f onprem-flyte-dependencies.yaml\")\n",
    "remote.run(\"kubectl delete storageclass hostpath -n flyte\")"
   ]
  },
  {
   "cell_type": "code",
   "execution_count": null,
   "metadata": {},
   "outputs": [],
   "source": []
  }
 ],
 "metadata": {
  "kernelspec": {
   "display_name": "Python 3 (ipykernel)",
   "language": "python",
   "name": "python3"
  },
  "language_info": {
   "codemirror_mode": {
    "name": "ipython",
    "version": 3
   },
   "file_extension": ".py",
   "mimetype": "text/x-python",
   "name": "python",
   "nbconvert_exporter": "python",
   "pygments_lexer": "ipython3",
   "version": "3.10.9"
  }
 },
 "nbformat": 4,
 "nbformat_minor": 4
}
